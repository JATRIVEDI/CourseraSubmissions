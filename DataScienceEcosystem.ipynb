{
  "nbformat": 4,
  "nbformat_minor": 0,
  "metadata": {
    "colab": {
      "provenance": [],
      "authorship_tag": "ABX9TyPJ+Ck3YDouXGzFN4gJUy1J",
      "include_colab_link": true
    },
    "kernelspec": {
      "name": "python3",
      "display_name": "Python 3"
    },
    "language_info": {
      "name": "python"
    }
  },
  "cells": [
    {
      "cell_type": "markdown",
      "metadata": {
        "id": "view-in-github",
        "colab_type": "text"
      },
      "source": [
        "<a href=\"https://colab.research.google.com/github/JATRIVEDI/CourseraSubmissions/blob/main/DataScienceEcosystem.ipynb\" target=\"_parent\"><img src=\"https://colab.research.google.com/assets/colab-badge.svg\" alt=\"Open In Colab\"/></a>"
      ]
    },
    {
      "cell_type": "markdown",
      "source": [
        "# Data Science Tools and Ecosystem"
      ],
      "metadata": {
        "id": "PIT2nhVyUX85"
      }
    },
    {
      "cell_type": "markdown",
      "source": [
        "# In this notebook, Data Science Tools and Ecosystem are summarized."
      ],
      "metadata": {
        "id": "eoAWRNBtUUmg"
      }
    },
    {
      "cell_type": "markdown",
      "source": [
        "# Some of the popular languages that Data Scientists use are:\n",
        "\n",
        "1.   Python\n",
        "2.   R\n",
        "3.   SQL\n",
        "4.   Java\n",
        "5.   Julia\n",
        "6.   Scala\n",
        "7.   Javascript\n",
        "\n",
        "\n",
        "\n",
        "\n",
        "\n",
        "\n",
        "\n",
        "\n",
        "\n",
        "\n"
      ],
      "metadata": {
        "id": "BfcfSdTpV8w-"
      }
    },
    {
      "cell_type": "markdown",
      "source": [
        "# Some of the commonly used libraries used by Data Scientists include:\n",
        "\n",
        "1.   Scikit-Learn\n",
        "2.   Numpy\n",
        "3.   Pandas\n",
        "4.   MatplotLib\n",
        "5.   Keras\n",
        "6.   Tensorflow\n",
        "\n",
        "\n"
      ],
      "metadata": {
        "id": "Wrguma0IXhEC"
      }
    },
    {
      "cell_type": "markdown",
      "source": [
        "| Data Science Tools |\n",
        "|--------------------|\n",
        "| Apache Spark       |\n",
        "| Jupyter Notebook   |\n",
        "| RStudio            |\n",
        "| Zeppelin Notebook  |\n"
      ],
      "metadata": {
        "id": "wqdTMPfBYy55"
      }
    },
    {
      "cell_type": "markdown",
      "source": [
        "### Below are a few examples of evaluating arithmetic expressions in Python.\n",
        "\n",
        "1.  x = 8 <br>\n",
        "    y = 9 <br>\n",
        "    z = x+y\n",
        "\n",
        "2.  a = 2 <br>\n",
        "    a+=4 <br>\n",
        "\n"
      ],
      "metadata": {
        "id": "djYDHvUFba9N"
      }
    },
    {
      "cell_type": "code",
      "source": [
        "# Multiply and add numbers\n",
        "a=3\n",
        "b=4\n",
        "c=(a*b)+5 #Simple expression to multiply and then add\n",
        "print(c)"
      ],
      "metadata": {
        "colab": {
          "base_uri": "https://localhost:8080/"
        },
        "id": "2jocs50scoJ_",
        "outputId": "d4510d02-e314-4cd4-acdd-f8918fa0a806"
      },
      "execution_count": null,
      "outputs": [
        {
          "output_type": "stream",
          "name": "stdout",
          "text": [
            "17\n"
          ]
        }
      ]
    },
    {
      "cell_type": "code",
      "source": [
        "# Code cell to convert minutes to hours\n",
        "min_time = 200\n",
        "#This will convert 200 minutes to hours by diving by 60\n",
        "hr_time = min_time/60\n",
        "print(hr_time)"
      ],
      "metadata": {
        "colab": {
          "base_uri": "https://localhost:8080/"
        },
        "id": "Bb1bqGjadcmF",
        "outputId": "3514f96a-853a-4c30-d5e3-06edbdb9bb23"
      },
      "execution_count": null,
      "outputs": [
        {
          "output_type": "stream",
          "name": "stdout",
          "text": [
            "3.3333333333333335\n"
          ]
        }
      ]
    },
    {
      "cell_type": "markdown",
      "source": [
        "**# Objectives**\n",
        "\n",
        "\n",
        "*   List Data Science Languages\n",
        "*   List Data Science Tools\n",
        "*   List Data Science Libraries\n",
        "*   Sample Arithmetic Expressions in Python\n",
        "\n"
      ],
      "metadata": {
        "id": "OPgMcqdyeuj6"
      }
    },
    {
      "cell_type": "markdown",
      "source": [
        "## Author\n",
        "\n",
        "Juhi Ameta"
      ],
      "metadata": {
        "id": "UcHxDx_yfx2g"
      }
    }
  ]
}